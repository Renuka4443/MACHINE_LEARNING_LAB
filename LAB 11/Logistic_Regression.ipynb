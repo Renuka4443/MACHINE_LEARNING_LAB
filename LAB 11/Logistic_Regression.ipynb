{
 "cells": [
  {
   "cell_type": "code",
   "execution_count": 67,
   "id": "dc361ac4-5b85-4cf8-a0c6-4a83f53e8d78",
   "metadata": {},
   "outputs": [],
   "source": [
    "import numpy as np\n",
    "import pandas as pd\n",
    "import matplotlib.pyplot as plt"
   ]
  },
  {
   "cell_type": "code",
   "execution_count": 69,
   "id": "d38ef724-be5e-4ae5-8a16-629816bf407d",
   "metadata": {},
   "outputs": [],
   "source": [
    "#Dataset\n",
    "X=np.array([1.,2.,3.,4.,5.])\n",
    "y=np.array([0.,0.,0.,1.,1.])\n",
    "m=len(y)"
   ]
  },
  {
   "cell_type": "code",
   "execution_count": 71,
   "id": "97f27558-d9c3-4116-bb0e-f82b59ecd515",
   "metadata": {},
   "outputs": [],
   "source": [
    "def sigmoid(z):\n",
    "    return 1.0/(1.0+np.exp(-z))"
   ]
  },
  {
   "cell_type": "code",
   "execution_count": 73,
   "id": "e07b154c-ec47-4fe6-aae6-5e4325e1f3e5",
   "metadata": {},
   "outputs": [],
   "source": [
    "#Initial params\n",
    "b0=0.0\n",
    "b1=0.0\n",
    "alpha=0.1"
   ]
  },
  {
   "cell_type": "code",
   "execution_count": 75,
   "id": "e0d7e3a3-2bea-4f32-af99-cb78e360c804",
   "metadata": {},
   "outputs": [
    {
     "name": "stdout",
     "output_type": "stream",
     "text": [
      "Initial h: [0.5 0.5 0.5 0.5 0.5]\n",
      "Initial cost: 0.6931471805599433\n"
     ]
    }
   ],
   "source": [
    "#Initial z and h\n",
    "z=b0+b1*X\n",
    "h=sigmoid(z)\n",
    "eps=1e-15\n",
    "initial_cost=-(1.0/m)*np.sum(y*np.log(h+eps)+(1-y)*np.log(1-h+eps))\n",
    "print(\"Initial h:\",h)\n",
    "print(\"Initial cost:\",initial_cost)"
   ]
  },
  {
   "cell_type": "code",
   "execution_count": 77,
   "id": "17a48fd8-523a-4bcc-a1a2-a21c7bb6ca40",
   "metadata": {},
   "outputs": [
    {
     "name": "stdout",
     "output_type": "stream",
     "text": [
      "grad_b0 = 0.1\n",
      "grad_b1 = -0.3\n"
     ]
    }
   ],
   "source": [
    "#Gradient at initial params\n",
    "h_minus_y=h-y\n",
    "grad_b0=np.mean(h_minus_y)\n",
    "grad_b1=np.mean(h_minus_y*X)\n",
    "print(\"grad_b0 =\",grad_b0)\n",
    "print(\"grad_b1 =\",grad_b1)"
   ]
  },
  {
   "cell_type": "code",
   "execution_count": 79,
   "id": "24303cab-f83c-40e7-827f-6156e45c6823",
   "metadata": {},
   "outputs": [
    {
     "name": "stdout",
     "output_type": "stream",
     "text": [
      "After one update: b0 = -0.010000000000000002 , b1 =  0.03\n"
     ]
    }
   ],
   "source": [
    "#One gradient descent update\n",
    "b0_new=b0-alpha*grad_b0\n",
    "b1_new=b1-alpha*grad_b1\n",
    "print(\"After one update: b0 =\",b0_new,\", b1 = \",b1_new)"
   ]
  },
  {
   "cell_type": "code",
   "execution_count": 93,
   "id": "000769ae-f12c-421c-8b0f-f03407cc502f",
   "metadata": {},
   "outputs": [],
   "source": [
    "#Run gradient descent\n",
    "b0,b1=0.0,0.0\n",
    "n_iter=2000\n",
    "history=[]\n",
    "for it in range(n_iter):\n",
    "    z=b0+b1*X\n",
    "    h=sigmoid(z)\n",
    "    grad_b0=np.mean(h-y)\n",
    "    grad_b1=np.mean((h-y)*X)\n",
    "    cost=-(1.0/m)*np.sum(y*np.log(h+eps)+(1-y)*np.log(1-h+eps))\n",
    "    history.append((it,b0,b1,cost))\n",
    "    b0-=alpha*grad_b0\n",
    "    b1-=alpha*grad_b1"
   ]
  },
  {
   "cell_type": "code",
   "execution_count": 95,
   "id": "2c6cc214-b9ea-4703-8008-4e66ee9eb364",
   "metadata": {},
   "outputs": [
    {
     "name": "stdout",
     "output_type": "stream",
     "text": [
      "\n",
      "Final parameter after 2000 iteration:\n",
      "b0= -8.124229652999901\n",
      "b1= 2.379077884857112\n",
      "Decision boundary x= 3.4148649376764073\n",
      "Final cost J = 0.1197651327339016\n"
     ]
    }
   ],
   "source": [
    "print(\"\\nFinal parameter after {} iteration:\".format(n_iter))\n",
    "print(\"b0=\",b0)\n",
    "print(\"b1=\",b1)\n",
    "decision_boundary=-b0/b1\n",
    "print(\"Decision boundary x=\",decision_boundary)\n",
    "print(\"Final cost J =\",history[-1][3])"
   ]
  },
  {
   "cell_type": "code",
   "execution_count": 85,
   "id": "15c6911e-f478-4b82-af8c-6ea88f165733",
   "metadata": {},
   "outputs": [
    {
     "ename": "AttributeError",
     "evalue": "module 'numpy' has no attribute 'linespace'",
     "output_type": "error",
     "traceback": [
      "\u001b[1;31m---------------------------------------------------------------------------\u001b[0m",
      "\u001b[1;31mAttributeError\u001b[0m                            Traceback (most recent call last)",
      "Cell \u001b[1;32mIn[85], line 2\u001b[0m\n\u001b[0;32m      1\u001b[0m \u001b[38;5;66;03m#Plot data and learned probability curve\u001b[39;00m\n\u001b[1;32m----> 2\u001b[0m X_plot\u001b[38;5;241m=\u001b[39mnp\u001b[38;5;241m.\u001b[39mlinespace(\u001b[38;5;241m0\u001b[39m,\u001b[38;5;241m6\u001b[39m,\u001b[38;5;241m200\u001b[39m)\n\u001b[0;32m      3\u001b[0m y_plot\u001b[38;5;241m=\u001b[39msigmoid(b0\u001b[38;5;241m+\u001b[39mb1\u001b[38;5;241m*\u001b[39mX_plot)\n",
      "File \u001b[1;32mC:\\ProgramData\\anaconda3\\Lib\\site-packages\\numpy\\__init__.py:333\u001b[0m, in \u001b[0;36m__getattr__\u001b[1;34m(attr)\u001b[0m\n\u001b[0;32m    330\u001b[0m     \u001b[38;5;124m\"\u001b[39m\u001b[38;5;124mRemoved in NumPy 1.25.0\u001b[39m\u001b[38;5;124m\"\u001b[39m\n\u001b[0;32m    331\u001b[0m     \u001b[38;5;28;01mraise\u001b[39;00m \u001b[38;5;167;01mRuntimeError\u001b[39;00m(\u001b[38;5;124m\"\u001b[39m\u001b[38;5;124mTester was removed in NumPy 1.25.\u001b[39m\u001b[38;5;124m\"\u001b[39m)\n\u001b[1;32m--> 333\u001b[0m \u001b[38;5;28;01mraise\u001b[39;00m \u001b[38;5;167;01mAttributeError\u001b[39;00m(\u001b[38;5;124m\"\u001b[39m\u001b[38;5;124mmodule \u001b[39m\u001b[38;5;132;01m{!r}\u001b[39;00m\u001b[38;5;124m has no attribute \u001b[39m\u001b[38;5;124m\"\u001b[39m\n\u001b[0;32m    334\u001b[0m                      \u001b[38;5;124m\"\u001b[39m\u001b[38;5;132;01m{!r}\u001b[39;00m\u001b[38;5;124m\"\u001b[39m\u001b[38;5;241m.\u001b[39mformat(\u001b[38;5;18m__name__\u001b[39m, attr))\n",
      "\u001b[1;31mAttributeError\u001b[0m: module 'numpy' has no attribute 'linespace'"
     ]
    }
   ],
   "source": [
    "#Plot data and learned probability curve\n",
    "X_plot=np.linespace(0,6,200)\n",
    "y_plot=sigmoid(b0+b1*X_plot)"
   ]
  },
  {
   "cell_type": "code",
   "execution_count": 87,
   "id": "ba04120b-5241-4c19-80de-dc4f40291faa",
   "metadata": {},
   "outputs": [
    {
     "ename": "NameError",
     "evalue": "name 'X_plot' is not defined",
     "output_type": "error",
     "traceback": [
      "\u001b[1;31m---------------------------------------------------------------------------\u001b[0m",
      "\u001b[1;31mNameError\u001b[0m                                 Traceback (most recent call last)",
      "Cell \u001b[1;32mIn[87], line 3\u001b[0m\n\u001b[0;32m      1\u001b[0m plt\u001b[38;5;241m.\u001b[39mfigure(figsize\u001b[38;5;241m=\u001b[39m(\u001b[38;5;241m8\u001b[39m,\u001b[38;5;241m5\u001b[39m))\n\u001b[0;32m      2\u001b[0m plt\u001b[38;5;241m.\u001b[39mscatter(X,y)\n\u001b[1;32m----> 3\u001b[0m plt\u001b[38;5;241m.\u001b[39mplot(X_plot,y_plot)\n\u001b[0;32m      4\u001b[0m plt\u001b[38;5;241m.\u001b[39maxhline(\u001b[38;5;241m0.5\u001b[39m,linestyle\u001b[38;5;241m=\u001b[39m\u001b[38;5;124m'\u001b[39m\u001b[38;5;124m--\u001b[39m\u001b[38;5;124m'\u001b[39m)\n\u001b[0;32m      5\u001b[0m plt\u001b[38;5;241m.\u001b[39mtitle(\u001b[38;5;124m\"\u001b[39m\u001b[38;5;124mLogistic regression fit (Manual gradient decent)\u001b[39m\u001b[38;5;124m\"\u001b[39m)\n",
      "\u001b[1;31mNameError\u001b[0m: name 'X_plot' is not defined"
     ]
    },
    {
     "data": {
      "image/png": "[encoded data removed]",
      "text/plain": [
       "<Figure size 800x500 with 1 Axes>"
      ]
     },
     "metadata": {},
     "output_type": "display_data"
    }
   ],
   "source": [
    "plt.figure(figsize=(8,5))\n",
    "plt.scatter(X,y)\n",
    "plt.plot(X_plot,y_plot)\n",
    "plt.axhline(0.5,linestyle='--')\n",
    "plt.title(\"Logistic regression fit (Manual gradient decent)\")\n",
    "plt.xlabel(\"Study Hours\")\n",
    "plt.ylabel(\"P(pass)\")\n",
    "plt.grid(True)\n",
    "plt.show()"
   ]
  },
  {
   "cell_type": "code",
   "execution_count": null,
   "id": "bba8e117-33e3-4d60-b48d-ba509c707cff",
   "metadata": {},
   "outputs": [],
   "source": []
  }
 ],
 "metadata": {
  "kernelspec": {
   "display_name": "Python [conda env:base] *",
   "language": "python",
   "name": "conda-base-py"
  },
  "language_info": {
   "codemirror_mode": {
    "name": "ipython",
    "version": 3
   },
   "file_extension": ".py",
   "mimetype": "text/x-python",
   "name": "python",
   "nbconvert_exporter": "python",
   "pygments_lexer": "ipython3",
   "version": "3.12.7"
  }
 },
 "nbformat": 4,
 "nbformat_minor": 5
}
